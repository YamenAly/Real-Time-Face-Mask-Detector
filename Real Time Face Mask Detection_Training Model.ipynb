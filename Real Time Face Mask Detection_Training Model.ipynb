{
 "cells": [
  {
   "cell_type": "code",
   "execution_count": 4,
   "metadata": {},
   "outputs": [],
   "source": [
    "import tensorflow as tf\n",
    "import keras\n",
    "from tensorflow.keras.preprocessing import image\n",
    "from tensorflow.keras.preprocessing.image import ImageDataGenerator\n",
    "from keras.preprocessing.image import ImageDataGenerator\n",
    "from tensorflow.keras.preprocessing import image_dataset_from_directory\n",
    "from tensorflow.keras.metrics import categorical_crossentropy\n",
    "from tensorflow.keras.applications import MobileNetV2\n",
    "from tensorflow.keras.layers import AveragePooling2D\n",
    "from tensorflow.keras.layers import Dropout\n",
    "from tensorflow.keras.layers import Flatten\n",
    "from tensorflow.keras.layers import Dense\n",
    "from tensorflow.keras.layers import Input\n",
    "from tensorflow.keras.models import Model\n",
    "from tensorflow.keras.optimizers import Adam\n",
    "from tensorflow.keras.applications.mobilenet_v2 import preprocess_input\n",
    "from tensorflow.keras.preprocessing.image import img_to_array\n",
    "from tensorflow.keras.preprocessing.image import load_img\n",
    "\n",
    "from tensorflow.keras.utils import to_categorical\n",
    "from sklearn.preprocessing import LabelBinarizer\n",
    "from sklearn.model_selection import train_test_split\n",
    "from sklearn.metrics import classification_report\n",
    "\n",
    "import matplotlib.pyplot as plt\n",
    "%matplotlib inline\n",
    "import numpy as np\n",
    "import argparse\n",
    "import os\n",
    "\n",
    "from tensorflow.keras.models import load_model\n",
    "\n",
    "import numpy as np\n",
    "import pandas as pd\n",
    "import time\n",
    "import warnings\n",
    "warnings.filterwarnings(\"ignore\")"
   ]
  },
  {
   "cell_type": "markdown",
   "metadata": {},
   "source": [
    "Data Normalizers"
   ]
  },
  {
   "cell_type": "code",
   "execution_count": 5,
   "metadata": {},
   "outputs": [],
   "source": [
    "Train_Normalized = ImageDataGenerator(rescale = 1./255.,rotation_range = 45, shear_range = 0.2, zoom_range = 0.2, horizontal_flip = True, vertical_flip =True)\n",
    "\n",
    "Test_Normalized = ImageDataGenerator(rescale = 1.0/255.)"
   ]
  },
  {
   "cell_type": "markdown",
   "metadata": {},
   "source": [
    "Importing and Normalizing the Dataset"
   ]
  },
  {
   "cell_type": "code",
   "execution_count": 6,
   "metadata": {},
   "outputs": [
    {
     "name": "stdout",
     "output_type": "stream",
     "text": [
      "Found 10000 images belonging to 2 classes.\n",
      "Found 800 images belonging to 2 classes.\n",
      "Found 992 images belonging to 2 classes.\n"
     ]
    }
   ],
   "source": [
    "train_gen = Train_Normalized.flow_from_directory('./Face Mask Dataset/Train', target_size = (224,224), batch_size = 64, class_mode = 'categorical',  color_mode= 'rgb')\n",
    "\n",
    "val_gen = Train_Normalized.flow_from_directory('./Face Mask Dataset/Validation', target_size=(224,224), class_mode='categorical', color_mode= 'rgb', batch_size= 64)\n",
    "\n",
    "test_gen = Test_Normalized.flow_from_directory('./Face Mask Dataset/Test', target_size = (224,224), class_mode = 'categorical',color_mode= 'rgb', batch_size = 64)"
   ]
  },
  {
   "cell_type": "code",
   "execution_count": 7,
   "metadata": {},
   "outputs": [
    {
     "name": "stdout",
     "output_type": "stream",
     "text": [
      "WARNING:tensorflow:`input_shape` is undefined or non-square, or `rows` is not in [96, 128, 160, 192, 224]. Weights for input shape (224, 224) will be loaded as the default.\n"
     ]
    }
   ],
   "source": [
    "baseModel=MobileNetV2(weights=\"imagenet\",include_top=False,input_tensor=Input(shape=(224,224,3)))"
   ]
  },
  {
   "cell_type": "code",
   "execution_count": 8,
   "metadata": {},
   "outputs": [],
   "source": [
    "headModel=baseModel.output\n",
    "headModel=AveragePooling2D(pool_size=(7,7))(headModel)\n",
    "headModel=Flatten(name=\"flatten\")(headModel)\n",
    "headModel=Dense(128,activation=\"relu\")(headModel)\n",
    "headModel=Dropout(0.5)(headModel)\n",
    "headModel=Dense(2,activation=\"softmax\")(headModel)"
   ]
  },
  {
   "cell_type": "code",
   "execution_count": 9,
   "metadata": {},
   "outputs": [],
   "source": [
    "model=Model(inputs=baseModel.input,outputs=headModel)"
   ]
  },
  {
   "cell_type": "code",
   "execution_count": 10,
   "metadata": {},
   "outputs": [],
   "source": [
    "for layer in baseModel.layers:\n",
    "    layer.trainable=False"
   ]
  },
  {
   "cell_type": "code",
   "execution_count": 11,
   "metadata": {},
   "outputs": [],
   "source": [
    "model.compile(loss='categorical_crossentropy', optimizer=Adam(learning_rate=0.00001), metrics=['accuracy'])"
   ]
  },
  {
   "cell_type": "code",
   "execution_count": 12,
   "metadata": {},
   "outputs": [
    {
     "name": "stdout",
     "output_type": "stream",
     "text": [
      "Epoch 1/20\n",
      "157/157 [==============================] - 198s 1s/step - loss: 0.7820 - accuracy: 0.6005 - val_loss: 0.4432 - val_accuracy: 0.8000\n",
      "Epoch 2/20\n",
      "157/157 [==============================] - 192s 1s/step - loss: 0.4914 - accuracy: 0.7658 - val_loss: 0.2836 - val_accuracy: 0.9162\n",
      "Epoch 3/20\n",
      "157/157 [==============================] - 191s 1s/step - loss: 0.3632 - accuracy: 0.8413 - val_loss: 0.2285 - val_accuracy: 0.9287\n",
      "Epoch 4/20\n",
      "157/157 [==============================] - 193s 1s/step - loss: 0.2915 - accuracy: 0.8792 - val_loss: 0.2006 - val_accuracy: 0.9275\n",
      "Epoch 5/20\n",
      "157/157 [==============================] - 190s 1s/step - loss: 0.2528 - accuracy: 0.9022 - val_loss: 0.1746 - val_accuracy: 0.9450\n",
      "Epoch 6/20\n",
      "157/157 [==============================] - 191s 1s/step - loss: 0.2248 - accuracy: 0.9149 - val_loss: 0.1590 - val_accuracy: 0.9425\n",
      "Epoch 7/20\n",
      "157/157 [==============================] - 195s 1s/step - loss: 0.2059 - accuracy: 0.9219 - val_loss: 0.1472 - val_accuracy: 0.9513\n",
      "Epoch 8/20\n",
      "157/157 [==============================] - 191s 1s/step - loss: 0.1894 - accuracy: 0.9295 - val_loss: 0.1350 - val_accuracy: 0.9488\n",
      "Epoch 9/20\n",
      "157/157 [==============================] - 194s 1s/step - loss: 0.1744 - accuracy: 0.9365 - val_loss: 0.1242 - val_accuracy: 0.9525\n",
      "Epoch 10/20\n",
      "157/157 [==============================] - 194s 1s/step - loss: 0.1657 - accuracy: 0.9409 - val_loss: 0.1170 - val_accuracy: 0.9588\n",
      "Epoch 11/20\n",
      "157/157 [==============================] - 193s 1s/step - loss: 0.1598 - accuracy: 0.9398 - val_loss: 0.1300 - val_accuracy: 0.9500\n",
      "Epoch 12/20\n",
      "157/157 [==============================] - ETA: 0s - loss: 0.1498 - accuracy: 0.9446Restoring model weights from the end of the best epoch: 10.\n",
      "157/157 [==============================] - 192s 1s/step - loss: 0.1498 - accuracy: 0.9446 - val_loss: 0.1188 - val_accuracy: 0.9550\n",
      "Epoch 12: early stopping\n"
     ]
    }
   ],
   "source": [
    "from tensorflow.keras.callbacks import EarlyStopping, ModelCheckpoint\n",
    "early_stop = EarlyStopping(monitor='val_loss', mode='min', patience=2,restore_best_weights=True, verbose=1)\n",
    "history = model.fit(train_gen, epochs=20, validation_data=val_gen, callbacks=[early_stop])"
   ]
  },
  {
   "cell_type": "code",
   "execution_count": 13,
   "metadata": {},
   "outputs": [
    {
     "name": "stdout",
     "output_type": "stream",
     "text": [
      "Test Loss: 0.09077750891447067\n",
      "Test Accuracy: 0.9727822542190552\n"
     ]
    }
   ],
   "source": [
    "results = model.evaluate(test_gen, verbose=0)\n",
    "print(\"Test Loss: \"+str(results[0]))\n",
    "print(\"Test Accuracy: \"+str(results[1]))"
   ]
  },
  {
   "cell_type": "code",
   "execution_count": 14,
   "metadata": {},
   "outputs": [
    {
     "name": "stdout",
     "output_type": "stream",
     "text": [
      "16/16 [==============================] - 13s 719ms/step\n"
     ]
    }
   ],
   "source": [
    "pred = model.predict(test_gen)\n",
    "pred = np.argmax(pred,axis=1)\n",
    "\n",
    "labels = (train_gen.class_indices)\n",
    "labels = dict((v,k) for k,v in labels.items())\n",
    "pred = [labels[k] for k in pred]"
   ]
  },
  {
   "cell_type": "code",
   "execution_count": 15,
   "metadata": {},
   "outputs": [],
   "source": [
    "model.save(\"Model/ask_mobileNetV2_detector.model\", save_format=\"h5\")"
   ]
  }
 ],
 "metadata": {
  "kernelspec": {
   "display_name": "Python 3",
   "language": "python",
   "name": "python3"
  },
  "language_info": {
   "codemirror_mode": {
    "name": "ipython",
    "version": 3
   },
   "file_extension": ".py",
   "mimetype": "text/x-python",
   "name": "python",
   "nbconvert_exporter": "python",
   "pygments_lexer": "ipython3",
   "version": "3.11.5"
  }
 },
 "nbformat": 4,
 "nbformat_minor": 2
}
